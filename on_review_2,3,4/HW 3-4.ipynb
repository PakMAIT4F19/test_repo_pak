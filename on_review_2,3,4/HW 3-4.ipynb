{
 "cells": [
  {
   "cell_type": "markdown",
   "metadata": {},
   "source": [
    "# HW 3"
   ]
  },
  {
   "cell_type": "code",
   "execution_count": 178,
   "metadata": {},
   "outputs": [],
   "source": [
    "import psycopg2\n",
    "import getpass\n",
    "import numpy as np\n",
    "import datetime\n",
    "import time\n",
    "import pandas as pd\n",
    "import dateutil.relativedelta as dr\n",
    "import matplotlib.pyplot as plt\n",
    "import numpy as np\n",
    "from datetime import datetime\n"
   ]
  },
  {
   "cell_type": "code",
   "execution_count": 3,
   "metadata": {},
   "outputs": [],
   "source": [
    "def coupon_count(coup_str):\n",
    "        full_matrix = pd.DataFrame() # local var\n",
    "        end_date = coup_str.BUYBACKDATE.values[0] if coup_str.BUYBACKDATE.values[0] is not None else coup_str.EndMtyDate.values[0]\n",
    "        a = int(coup_str.CouponPerYear.values[0])\n",
    "        b = float(coup_str.NumCoupons.values[0])\n",
    "        types = True\n",
    "        if coup_str.CPN is not None or coup_str.CPN != 0:\n",
    "            if coup_str.AmortisedMty.astype(str).values[0] == 'False':\n",
    "                types = False\n",
    "                amount = coup_str.CPN.values[0]\n",
    "                for j in np.linspace((b - 1) / a, 0, b):\n",
    "                    date = coup_str.EndMtyDate.values[0] - dr.relativedelta(days = round(365.25 * j))\n",
    "                    if date >= end_date and coup_str.EndMtyDate.values[0] != end_date :\n",
    "                        date = end_date\n",
    "                        amount = coup_str.BUYBACKPRICE.values[0]\n",
    "                        full_matrix = pd.concat([full_matrix, pd.DataFrame({date.strftime(\"%Y-%m-%d\"): [amount]})], axis = 1)\n",
    "                        break\n",
    "                    elif date >= end_date and coup_str.EndMtyDate.values[0] == end_date:\n",
    "                        date = end_date\n",
    "                        amount += coup_str.FaceValue.values[0]\n",
    "                        full_matrix = pd.concat([full_matrix, pd.DataFrame({date.strftime(\"%Y-%m-%d\"): [amount]})], axis = 1)\n",
    "                        break\n",
    "                    full_matrix = pd.concat([full_matrix, pd.DataFrame({date.strftime(\"%Y-%m-%d\"): [amount]})], axis = 1)\n",
    "                    amount = coup_str.CPN.values[0]\n",
    "            else:\n",
    "                percent = float(coup_str.CPN.values[0]) / float(coup_str.FaceValue.values[0])\n",
    "                index = (b - 1)\n",
    "                face = coup_str.FaceValue.values[0]\n",
    "                while index >= 0:\n",
    "                    amount = percent * face\n",
    "                    date = coup_str.EndMtyDate.values[0] - dr.relativedelta(days = round(365.25*index/a))\n",
    "                    if date >= end_date and coup_str.EndMtyDate.values[0] != end_date :\n",
    "                        date = end_date\n",
    "                        amount = coup_str.BUYBACKPRICE.values[0]\n",
    "                        full_matrix = pd.concat([full_matrix, pd.DataFrame({date.strftime(\"%Y-%m-%d\"): [amount]})], axis = 1)\n",
    "                        break\n",
    "                    elif date >= end_date and coup_str.EndMtyDate.values[0] == end_date:\n",
    "                        date = end_date\n",
    "                        amount = face\n",
    "                        full_matrix = pd.concat([full_matrix, pd.DataFrame({date.strftime(\"%Y-%m-%d\"): [amount]})], axis = 1)\n",
    "                        break\n",
    "                    full_matrix = pd.concat([full_matrix, pd.DataFrame({date.strftime(\"%Y-%m-%d\"): [amount]})], axis = 1)\n",
    "                    index -= 1\n",
    "                    face = face * (1 - percent)\n",
    "        my_index = pd.MultiIndex.from_tuples([(coup_str.ISIN.values[0], 'Amortised' if types else 'Not Amortised'\n",
    "                                               , coup_str.IssuerName.values[0] )], names=['ISIN', 'Amortisation', 'Issuer'])\n",
    "        full_matrix = pd.DataFrame(full_matrix.values, index = my_index, columns = full_matrix.columns)\n",
    "        return full_matrix\n",
    "\n",
    "\n",
    "def crazy(issuer_name, date, db_login, from_date_matrix):\n",
    "\n",
    "    conn = psycopg2.connect(user = db_login['user'],\n",
    "                            database = db_login['database'], \n",
    "                            host = db_login['host'], \n",
    "                            port = db_login['port'], \n",
    "                            password = getpass.getpass('Insert password: '))\n",
    "\n",
    "    query = \"\"\"SELECT *\n",
    "            FROM (SELECT MAX(\"CPN\") AS \"CPN\", \"ISIN\", max(\"BUYBACKDATE\") AS \"BUYBACKDATE\",\n",
    "                  max(\"BUYBACKPRICE\") AS \"BUYBACKPRICE\"\n",
    "                  FROM public.quotes_task  \n",
    "                  GROUP BY \"ISIN\") AS a\n",
    "            INNER JOIN(SELECT \"ISINCode\", \"FaceValue\", \"HaveOffer\", \"AmortisedMty\", \n",
    "                       \"CouponPerYear\", \"NumCoupons\", \"EndMtyDate\", \"CouponType\", \"IssuerName\"\n",
    "                       FROM public.bond_description_task \n",
    "                       WHERE \"Status\"!='Погашен') AS b\n",
    "            ON a.\"ISIN\" = b.\"ISINCode\";\"\"\"\n",
    "\n",
    "    # read query in python\n",
    "\n",
    "    data = pd.read_sql_query(query, conn) \n",
    "\n",
    "    # Extract more specified data \n",
    "    data.drop(['ISINCode'], axis=1)\n",
    "    data.BUYBACKPRICE = data.BUYBACKPRICE.fillna(0)\n",
    "    data = data[~data.CPN.isna()].reset_index(drop = True)\n",
    "    data = data[data.CPN != 0]\n",
    "    data = data[data.CouponPerYear > 0]\n",
    "\n",
    "    # if you had timestamp format in any of extracted fields so change format to date\n",
    "    # in my case it was only buybackdate\n",
    "    \n",
    "    full_matrix = pd.DataFrame()\n",
    "\n",
    "    # fill in full_matrix\n",
    "\n",
    "    for i in data.iterrows():\n",
    "        full_matrix = pd.concat([full_matrix, coupon_count(pd.DataFrame(i[1]).T)], sort = True)\n",
    "        full_matrix = full_matrix.fillna(0)\n",
    "    \n",
    "    results = {'ISSUER': issuer_name, 'DATE': date, 'MATRIX_OF_PAYMENTS': from_date_matrix(issuer_name, date, full_matrix)}\n",
    "    return results"
   ]
  },
  {
   "cell_type": "code",
   "execution_count": 4,
   "metadata": {},
   "outputs": [],
   "source": [
    "def from_date_matrix(issuer_name, date, full_matrix):\n",
    "        spec_payments = pd.DataFrame()\n",
    "        for i in range(0, len(full_matrix.xs(str(issuer_name), level = 2).dropna(axis = 1, how = 'all').fillna(0).columns)):\n",
    "            date_size = int(full_matrix.xs(str(issuer_name), level = 2).dropna(axis = 1, \\\n",
    "            how = 'all').fillna(0).columns[i].split('-')[0]) * 365 + int(full_matrix.xs(str(issuer_name), \\\n",
    "            level = 2).dropna(axis = 1, how = 'all').fillna(0).columns[i].split('-')[1]) * 365/12 + \\\n",
    "            int(full_matrix.xs(str(issuer_name), level = 2).dropna(axis = 1, how = 'all').fillna(0).columns[i].split('-')[2])\n",
    "            if int(date.split('-')[0]) * 365 + int(date.split('-')[1]) * 365/12 + int(date.split('-')[2]) < date_size:\n",
    "                data = full_matrix.xs(str(issuer_name), level = 2).dropna(axis = 1, how = 'all').fillna(0).iloc[:, i:i+1]\n",
    "                spec_payments = pd.concat([spec_payments, data], axis = 1)\n",
    "        return spec_payments"
   ]
  },
  {
   "cell_type": "code",
   "execution_count": 26,
   "metadata": {},
   "outputs": [
    {
     "name": "stdout",
     "output_type": "stream",
     "text": [
      "User of database: postgres\n",
      "Name of database: postgres\n",
      "Host: localhost\n",
      "Port: 5432\n",
      "Issuer name: Татфондбанк АИКБ\n",
      "Date in format YYYY-MM-DD: 2015-09-21\n",
      "Insert password: ········\n"
     ]
    },
    {
     "name": "stderr",
     "output_type": "stream",
     "text": [
      "C:\\ProgramData\\Anaconda3\\lib\\site-packages\\ipykernel_launcher.py:11: DeprecationWarning: object of type <class 'float'> cannot be safely interpreted as an integer.\n",
      "  # This is added back by InteractiveShellApp.init_path()\n"
     ]
    },
    {
     "name": "stdout",
     "output_type": "stream",
     "text": [
      "Татфондбанк АИКБ 2015-09-21\n"
     ]
    },
    {
     "data": {
      "text/html": [
       "<div>\n",
       "<style scoped>\n",
       "    .dataframe tbody tr th:only-of-type {\n",
       "        vertical-align: middle;\n",
       "    }\n",
       "\n",
       "    .dataframe tbody tr th {\n",
       "        vertical-align: top;\n",
       "    }\n",
       "\n",
       "    .dataframe thead th {\n",
       "        text-align: right;\n",
       "    }\n",
       "</style>\n",
       "<table border=\"1\" class=\"dataframe\">\n",
       "  <thead>\n",
       "    <tr style=\"text-align: right;\">\n",
       "      <th></th>\n",
       "      <th></th>\n",
       "      <th>2015-10-07</th>\n",
       "      <th>2015-12-12</th>\n",
       "      <th>2015-12-23</th>\n",
       "      <th>2016-02-05</th>\n",
       "      <th>2016-03-14</th>\n",
       "      <th>2016-03-21</th>\n",
       "      <th>2016-04-01</th>\n",
       "      <th>2016-04-06</th>\n",
       "      <th>2016-09-13</th>\n",
       "      <th>2016-10-06</th>\n",
       "    </tr>\n",
       "    <tr>\n",
       "      <th>ISIN</th>\n",
       "      <th>Amortisation</th>\n",
       "      <th></th>\n",
       "      <th></th>\n",
       "      <th></th>\n",
       "      <th></th>\n",
       "      <th></th>\n",
       "      <th></th>\n",
       "      <th></th>\n",
       "      <th></th>\n",
       "      <th></th>\n",
       "      <th></th>\n",
       "    </tr>\n",
       "  </thead>\n",
       "  <tbody>\n",
       "    <tr>\n",
       "      <th>RU000A0JTLE4</th>\n",
       "      <th>Not Amortised</th>\n",
       "      <td>0.00</td>\n",
       "      <td>0.00</td>\n",
       "      <td>0.0</td>\n",
       "      <td>1084.77</td>\n",
       "      <td>0.00</td>\n",
       "      <td>0.0000</td>\n",
       "      <td>0.0</td>\n",
       "      <td>0.00</td>\n",
       "      <td>0.00</td>\n",
       "      <td>0.00</td>\n",
       "    </tr>\n",
       "    <tr>\n",
       "      <th>RU000A0JU5G0</th>\n",
       "      <th>Not Amortised</th>\n",
       "      <td>0.00</td>\n",
       "      <td>0.00</td>\n",
       "      <td>0.0</td>\n",
       "      <td>0.00</td>\n",
       "      <td>69.62</td>\n",
       "      <td>0.0000</td>\n",
       "      <td>0.0</td>\n",
       "      <td>0.00</td>\n",
       "      <td>1069.62</td>\n",
       "      <td>0.00</td>\n",
       "    </tr>\n",
       "    <tr>\n",
       "      <th>RU000A0JU732</th>\n",
       "      <th>Not Amortised</th>\n",
       "      <td>84.77</td>\n",
       "      <td>0.00</td>\n",
       "      <td>0.0</td>\n",
       "      <td>0.00</td>\n",
       "      <td>0.00</td>\n",
       "      <td>0.0000</td>\n",
       "      <td>0.0</td>\n",
       "      <td>84.77</td>\n",
       "      <td>0.00</td>\n",
       "      <td>1084.77</td>\n",
       "    </tr>\n",
       "    <tr>\n",
       "      <th>RU000A0JV3B5</th>\n",
       "      <th>Not Amortised</th>\n",
       "      <td>0.00</td>\n",
       "      <td>69.81</td>\n",
       "      <td>100.0</td>\n",
       "      <td>0.00</td>\n",
       "      <td>0.00</td>\n",
       "      <td>0.0000</td>\n",
       "      <td>0.0</td>\n",
       "      <td>0.00</td>\n",
       "      <td>0.00</td>\n",
       "      <td>0.00</td>\n",
       "    </tr>\n",
       "    <tr>\n",
       "      <th>RU000A0JVBJ0</th>\n",
       "      <th>Not Amortised</th>\n",
       "      <td>0.00</td>\n",
       "      <td>0.00</td>\n",
       "      <td>0.0</td>\n",
       "      <td>0.00</td>\n",
       "      <td>0.00</td>\n",
       "      <td>74.7945</td>\n",
       "      <td>100.0</td>\n",
       "      <td>0.00</td>\n",
       "      <td>0.00</td>\n",
       "      <td>0.00</td>\n",
       "    </tr>\n",
       "  </tbody>\n",
       "</table>\n",
       "</div>"
      ],
      "text/plain": [
       "                            2015-10-07  2015-12-12  2015-12-23  2016-02-05  \\\n",
       "ISIN         Amortisation                                                    \n",
       "RU000A0JTLE4 Not Amortised        0.00        0.00         0.0     1084.77   \n",
       "RU000A0JU5G0 Not Amortised        0.00        0.00         0.0        0.00   \n",
       "RU000A0JU732 Not Amortised       84.77        0.00         0.0        0.00   \n",
       "RU000A0JV3B5 Not Amortised        0.00       69.81       100.0        0.00   \n",
       "RU000A0JVBJ0 Not Amortised        0.00        0.00         0.0        0.00   \n",
       "\n",
       "                            2016-03-14  2016-03-21  2016-04-01  2016-04-06  \\\n",
       "ISIN         Amortisation                                                    \n",
       "RU000A0JTLE4 Not Amortised        0.00      0.0000         0.0        0.00   \n",
       "RU000A0JU5G0 Not Amortised       69.62      0.0000         0.0        0.00   \n",
       "RU000A0JU732 Not Amortised        0.00      0.0000         0.0       84.77   \n",
       "RU000A0JV3B5 Not Amortised        0.00      0.0000         0.0        0.00   \n",
       "RU000A0JVBJ0 Not Amortised        0.00     74.7945       100.0        0.00   \n",
       "\n",
       "                            2016-09-13  2016-10-06  \n",
       "ISIN         Amortisation                           \n",
       "RU000A0JTLE4 Not Amortised        0.00        0.00  \n",
       "RU000A0JU5G0 Not Amortised     1069.62        0.00  \n",
       "RU000A0JU732 Not Amortised        0.00     1084.77  \n",
       "RU000A0JV3B5 Not Amortised        0.00        0.00  \n",
       "RU000A0JVBJ0 Not Amortised        0.00        0.00  "
      ]
     },
     "execution_count": 26,
     "metadata": {},
     "output_type": "execute_result"
    }
   ],
   "source": [
    "user = input('User of database: ' )\n",
    "database = input('Name of database: ' )\n",
    "host = input('Host: ' )\n",
    "port = input('Port: ' )\n",
    "emitent = input('Issuer name: ')\n",
    "start_date_for_u  = input('Date in format YYYY-MM-DD: ')\n",
    "\n",
    "login = {'user': user, 'database': database, 'host': host, 'port': port}\n",
    "x = crazy(emitent, start_date_for_u, login, from_date_matrix)\n",
    "print(x['ISSUER'], x['DATE'])\n",
    "x['MATRIX_OF_PAYMENTS'].loc[:, (x['MATRIX_OF_PAYMENTS'] != 0).any(axis = 0)]"
   ]
  },
  {
   "cell_type": "code",
   "execution_count": 7,
   "metadata": {},
   "outputs": [],
   "source": [
    "buf = x['MATRIX_OF_PAYMENTS']\n",
    "buf = x['MATRIX_OF_PAYMENTS'].T[buf.sum().values > 0].T"
   ]
  },
  {
   "cell_type": "code",
   "execution_count": 8,
   "metadata": {},
   "outputs": [],
   "source": [
    "bbuf = buf.groupby('Amortisation').sum()"
   ]
  },
  {
   "cell_type": "code",
   "execution_count": 30,
   "metadata": {},
   "outputs": [
    {
     "data": {
      "image/png": "[encoded data removed]",
      "text/plain": [
       "<Figure size 1152x576 with 1 Axes>"
      ]
     },
     "metadata": {
      "needs_background": "light"
     },
     "output_type": "display_data"
    }
   ],
   "source": [
    "dates_graph = bbuf.columns\n",
    "\n",
    "if int(bbuf.shape[0])==1:\n",
    "    amort = bbuf.iloc[0]\n",
    "    plt.subplots(figsize=(16,8))\n",
    "    p1 = plt.bar(dates_graph, amort, width = 1, color=\"red\")\n",
    "    plt.xlabel('Dates of payments')\n",
    "    plt.xticks(rotation=90)\n",
    "    plt.ylabel('Payments')\n",
    "    plt.title('Payments of '+ str(emitent) + ' from ' + str(start_date_for_u))\n",
    "    plt.legend(['Amotriesed'])\n",
    "    payments_graph = plt.show(p1)\n",
    "    payments_graph\n",
    "    \n",
    "    \n",
    "    \n",
    "if int(bbuf.shape[0])==2:\n",
    "    plt.subplots(figsize=(16,8))\n",
    "    p1 = plt.bar(dates_graph, amort, width = 1, color=\"red\")\n",
    "    p2 = plt.bar(dates_graph, not_amort, width = 1, bottom=amort, color=\"blue\")\n",
    "\n",
    "    plt.xlabel('Dates of payments')\n",
    "    plt.xticks(rotation=90)\n",
    "    plt.ylabel('Payments')\n",
    "    plt.title('Payments of '+ str(emitent) + ' from ' + str(start_date_for_u))\n",
    "    plt.legend((p1[0], p2[0]), ('Amotriesed', 'Non amortiezed'))\n",
    "\n",
    "    payments_graph = plt.show(p1, p2)\n",
    "    payments_graph"
   ]
  },
  {
   "cell_type": "code",
   "execution_count": 31,
   "metadata": {},
   "outputs": [],
   "source": [
    "def year_delta(cur, base):\n",
    "    return (datetime.strptime(cur, '%Y-%m-%d') - datetime.strptime(base, '%Y-%m-%d')).days / 365\n",
    "\n",
    "def duration(times, coup, price, ytm):\n",
    "    times = np.array(times)\n",
    "    coup = np.array(coup)\n",
    "    return np.exp(- ytm * times) * coup * times / price"
   ]
  },
  {
   "cell_type": "code",
   "execution_count": 32,
   "metadata": {},
   "outputs": [],
   "source": [
    "date_x = str(start_date_for_u)\n",
    "issuer_x = str(emitent)\n",
    "\n",
    "conn=psycopg2.connect(user='postgres', \n",
    "                      database='postgres', \n",
    "                      host='localhost',\n",
    "                      port=5432,\n",
    "                      password='21qwsa34redf')\n",
    "\n",
    "query_x = \"\"\"SELECT issu.\"ISINCode\" as \"ISIN\"\n",
    "                , ytm.\"YIELD_BID\"\n",
    "                , ytm.\"BID\"\n",
    "            FROM public.bond_description_task as issu\n",
    "            join quotes_task as ytm \n",
    "                on issu.\"ISINCode\" = ytm.\"ISIN\"\n",
    "                and ytm.\"TIME\" = '{date_x}'\n",
    "                and issu.\"IssuerName\" = '{issuer_x}'\n",
    "            WHERE issu.\"Status\"!='Погашен'\n",
    "        ;\"\"\".format(date_x = date_x, issuer_x = issuer_x)\n",
    "\n",
    "df2 = pd.read_sql_query(query_x, conn) \n",
    "df2 = df2.set_index('ISIN')\n",
    "\n",
    "buf2 = buf.reset_index('Amortisation', drop=True)\n",
    "\n",
    "res = pd.concat([buf2, df2], axis = 1, sort = True)\n",
    "\n",
    "yield_nan_num = len(res[res.YIELD_BID.isna()])\n",
    "\n",
    "res = res[~res.YIELD_BID.isna()] # keep those which has yield\n",
    "\n",
    "if len(res) == 0: # Do we have something to plot\n",
    "    print('Nothing to plot :`('\\\n",
    "         'all bonds have no YTM_data'\\\n",
    "         str(yield_nan_num)+' '+'are non_yield')\n",
    "    #return ({'non_yield': yield_nan_num}) # something need to be return here\n",
    "\n",
    "ISINs = []\n",
    "Durations = []\n",
    "\n",
    "for j, i in res.iterrows():\n",
    "    a,b = j,i\n",
    "    y_times = list(map(lambda x: year_delta(x, date_x),b.index[:-2]))\n",
    "    ytm_value = b[-2] / 100\n",
    "    price_value = b[-1]\n",
    "    Durations.append(duration(y_times, b[:-2], price_value, ytm_value).sum())\n",
    "    ISINs.append(a)\n",
    "    \n",
    "ISIN_DURATION = pd.DataFrame(list(zip(ISINs, Durations)), columns = ['ISIN', 'time']).sort_values('time')\n"
   ]
  },
  {
   "cell_type": "code",
   "execution_count": 33,
   "metadata": {},
   "outputs": [
    {
     "data": {
      "text/plain": [
       "['RU000A0JV3B5',\n",
       " 'RU000A0JVBJ0',\n",
       " 'RU000A0JTLE4',\n",
       " 'RU000A0JU5G0',\n",
       " 'RU000A0JU732']"
      ]
     },
     "execution_count": 33,
     "metadata": {},
     "output_type": "execute_result"
    }
   ],
   "source": [
    " ISIN_DURATION['ISIN'].to_list()"
   ]
  },
  {
   "cell_type": "code",
   "execution_count": 124,
   "metadata": {},
   "outputs": [
    {
     "data": {
      "image/png": "[encoded data removed]",
      "text/plain": [
       "<Figure size 432x288 with 1 Axes>"
      ]
     },
     "metadata": {
      "needs_background": "light"
     },
     "output_type": "display_data"
    }
   ],
   "source": [
    "plt.scatter(ISIN_DURATION['ISIN'].to_list(), ISIN_DURATION['time'].to_list()) \n",
    "plt.xticks(rotation=90)\n",
    "plt.xlabel('Bonds')\n",
    "plt.ylabel('Duration')\n",
    "plt.xticks(rotation = 90)\n",
    "plt.title('Durations for bonds of '+ str(emitent) + ' from ' + str(start_date_for_u) + ' + ' + str(yield_nan_num) + ' bonds have no YTM')\n",
    "dur_graf=plt.show()\n",
    "dur_graf"
   ]
  },
  {
   "cell_type": "markdown",
   "metadata": {},
   "source": [
    "# HW 4"
   ]
  },
  {
   "cell_type": "code",
   "execution_count": null,
   "metadata": {},
   "outputs": [],
   "source": [
    "# Примеры и форму отчета можно посмотреть здесь\n",
    "\n",
    "# https://drive.google.com/drive/folders/1SsCQSTJmpjZSBHmGXfz6AGhJFhR1R43L?usp=sharing"
   ]
  },
  {
   "cell_type": "code",
   "execution_count": 159,
   "metadata": {},
   "outputs": [],
   "source": [
    "path_by_default = 'C:\\\\Users\\\\User\\\\Desktop\\\\HSE\\\\IT\\\\Home-work-BONDS'\n",
    "name_by_default = 'Matrix of payments of ' + str(x['ISSUER']) + ' from ' + str(x['DATE']) + \\\n",
    "                             ' updated ' + str(str(datetime.today())[:-16]) + '.csv'\n",
    "filename = path_by_default + '\\\\' + name_by_default\n",
    "buf.to_csv(filename, index = True)\n",
    "#Чтобы привести таблицу в читаемый вид, используйте следующий прием: выделить первый столбец-нажать \"Данные\"-\"Текст по столбцам\"\n",
    "#- разделитель \"Запятая\""
   ]
  },
  {
   "cell_type": "code",
   "execution_count": 160,
   "metadata": {},
   "outputs": [
    {
     "name": "stdout",
     "output_type": "stream",
     "text": [
      "Insert name of table: 1\n",
      "Insert path for table using backslash: 1\n"
     ]
    },
    {
     "ename": "FileNotFoundError",
     "evalue": "[Errno 2] No such file or directory: '1\\\\1.csv'",
     "output_type": "error",
     "traceback": [
      "\u001b[1;31m---------------------------------------------------------------------------\u001b[0m",
      "\u001b[1;31mFileNotFoundError\u001b[0m                         Traceback (most recent call last)",
      "\u001b[1;32m<ipython-input-160-854896a49687>\u001b[0m in \u001b[0;36m<module>\u001b[1;34m\u001b[0m\n\u001b[0;32m      2\u001b[0m \u001b[0mname_by_user\u001b[0m \u001b[1;33m=\u001b[0m \u001b[0minput\u001b[0m\u001b[1;33m(\u001b[0m\u001b[1;34m'Insert name of table: '\u001b[0m\u001b[1;33m)\u001b[0m\u001b[1;33m\u001b[0m\u001b[1;33m\u001b[0m\u001b[0m\n\u001b[0;32m      3\u001b[0m \u001b[0mpath_by_user\u001b[0m \u001b[1;33m=\u001b[0m \u001b[0minput\u001b[0m\u001b[1;33m(\u001b[0m\u001b[1;34m'Insert path for table using backslash: '\u001b[0m\u001b[1;33m)\u001b[0m\u001b[1;33m\u001b[0m\u001b[1;33m\u001b[0m\u001b[0m\n\u001b[1;32m----> 4\u001b[1;33m \u001b[0mbuf\u001b[0m\u001b[1;33m.\u001b[0m\u001b[0mto_csv\u001b[0m\u001b[1;33m(\u001b[0m\u001b[1;33m(\u001b[0m\u001b[0mpath_by_user\u001b[0m \u001b[1;33m+\u001b[0m \u001b[1;34m'\\\\'\u001b[0m \u001b[1;33m+\u001b[0m \u001b[0mname_by_user\u001b[0m \u001b[1;33m+\u001b[0m \u001b[1;34m'.csv'\u001b[0m\u001b[1;33m)\u001b[0m\u001b[1;33m,\u001b[0m \u001b[0mindex\u001b[0m \u001b[1;33m=\u001b[0m \u001b[1;32mTrue\u001b[0m\u001b[1;33m)\u001b[0m\u001b[1;33m\u001b[0m\u001b[1;33m\u001b[0m\u001b[0m\n\u001b[0m\u001b[0;32m      5\u001b[0m \u001b[1;31m#Чтобы привести таблицу в читаемый вид, используйте следующий прием: выделить первый столбец-нажать \"Данные\"-\"Текст по столбцам\"\u001b[0m\u001b[1;33m\u001b[0m\u001b[1;33m\u001b[0m\u001b[1;33m\u001b[0m\u001b[0m\n\u001b[0;32m      6\u001b[0m \u001b[1;31m#- разделитель \"Запятая\"\u001b[0m\u001b[1;33m\u001b[0m\u001b[1;33m\u001b[0m\u001b[1;33m\u001b[0m\u001b[0m\n",
      "\u001b[1;32mC:\\ProgramData\\Anaconda3\\lib\\site-packages\\pandas\\core\\generic.py\u001b[0m in \u001b[0;36mto_csv\u001b[1;34m(self, path_or_buf, sep, na_rep, float_format, columns, header, index, index_label, mode, encoding, compression, quoting, quotechar, line_terminator, chunksize, tupleize_cols, date_format, doublequote, escapechar, decimal)\u001b[0m\n\u001b[0;32m   3018\u001b[0m                                  \u001b[0mdoublequote\u001b[0m\u001b[1;33m=\u001b[0m\u001b[0mdoublequote\u001b[0m\u001b[1;33m,\u001b[0m\u001b[1;33m\u001b[0m\u001b[1;33m\u001b[0m\u001b[0m\n\u001b[0;32m   3019\u001b[0m                                  escapechar=escapechar, decimal=decimal)\n\u001b[1;32m-> 3020\u001b[1;33m         \u001b[0mformatter\u001b[0m\u001b[1;33m.\u001b[0m\u001b[0msave\u001b[0m\u001b[1;33m(\u001b[0m\u001b[1;33m)\u001b[0m\u001b[1;33m\u001b[0m\u001b[1;33m\u001b[0m\u001b[0m\n\u001b[0m\u001b[0;32m   3021\u001b[0m \u001b[1;33m\u001b[0m\u001b[0m\n\u001b[0;32m   3022\u001b[0m         \u001b[1;32mif\u001b[0m \u001b[0mpath_or_buf\u001b[0m \u001b[1;32mis\u001b[0m \u001b[1;32mNone\u001b[0m\u001b[1;33m:\u001b[0m\u001b[1;33m\u001b[0m\u001b[1;33m\u001b[0m\u001b[0m\n",
      "\u001b[1;32mC:\\ProgramData\\Anaconda3\\lib\\site-packages\\pandas\\io\\formats\\csvs.py\u001b[0m in \u001b[0;36msave\u001b[1;34m(self)\u001b[0m\n\u001b[0;32m    155\u001b[0m             f, handles = _get_handle(self.path_or_buf, self.mode,\n\u001b[0;32m    156\u001b[0m                                      \u001b[0mencoding\u001b[0m\u001b[1;33m=\u001b[0m\u001b[0mself\u001b[0m\u001b[1;33m.\u001b[0m\u001b[0mencoding\u001b[0m\u001b[1;33m,\u001b[0m\u001b[1;33m\u001b[0m\u001b[1;33m\u001b[0m\u001b[0m\n\u001b[1;32m--> 157\u001b[1;33m                                      compression=self.compression)\n\u001b[0m\u001b[0;32m    158\u001b[0m             \u001b[0mclose\u001b[0m \u001b[1;33m=\u001b[0m \u001b[1;32mTrue\u001b[0m\u001b[1;33m\u001b[0m\u001b[1;33m\u001b[0m\u001b[0m\n\u001b[0;32m    159\u001b[0m \u001b[1;33m\u001b[0m\u001b[0m\n",
      "\u001b[1;32mC:\\ProgramData\\Anaconda3\\lib\\site-packages\\pandas\\io\\common.py\u001b[0m in \u001b[0;36m_get_handle\u001b[1;34m(path_or_buf, mode, encoding, compression, memory_map, is_text)\u001b[0m\n\u001b[0;32m    422\u001b[0m         \u001b[1;32melif\u001b[0m \u001b[0mencoding\u001b[0m\u001b[1;33m:\u001b[0m\u001b[1;33m\u001b[0m\u001b[1;33m\u001b[0m\u001b[0m\n\u001b[0;32m    423\u001b[0m             \u001b[1;31m# Python 3 and encoding\u001b[0m\u001b[1;33m\u001b[0m\u001b[1;33m\u001b[0m\u001b[1;33m\u001b[0m\u001b[0m\n\u001b[1;32m--> 424\u001b[1;33m             \u001b[0mf\u001b[0m \u001b[1;33m=\u001b[0m \u001b[0mopen\u001b[0m\u001b[1;33m(\u001b[0m\u001b[0mpath_or_buf\u001b[0m\u001b[1;33m,\u001b[0m \u001b[0mmode\u001b[0m\u001b[1;33m,\u001b[0m \u001b[0mencoding\u001b[0m\u001b[1;33m=\u001b[0m\u001b[0mencoding\u001b[0m\u001b[1;33m,\u001b[0m \u001b[0mnewline\u001b[0m\u001b[1;33m=\u001b[0m\u001b[1;34m\"\"\u001b[0m\u001b[1;33m)\u001b[0m\u001b[1;33m\u001b[0m\u001b[1;33m\u001b[0m\u001b[0m\n\u001b[0m\u001b[0;32m    425\u001b[0m         \u001b[1;32melif\u001b[0m \u001b[0mis_text\u001b[0m\u001b[1;33m:\u001b[0m\u001b[1;33m\u001b[0m\u001b[1;33m\u001b[0m\u001b[0m\n\u001b[0;32m    426\u001b[0m             \u001b[1;31m# Python 3 and no explicit encoding\u001b[0m\u001b[1;33m\u001b[0m\u001b[1;33m\u001b[0m\u001b[1;33m\u001b[0m\u001b[0m\n",
      "\u001b[1;31mFileNotFoundError\u001b[0m: [Errno 2] No such file or directory: '1\\\\1.csv'"
     ]
    }
   ],
   "source": [
    "# Для самостоятельной калибровки настроек\n",
    "name_by_user = input('Insert name of table: ')\n",
    "path_by_user = input('Insert path for table using backslash: ')\n",
    "buf.to_csv((path_by_user + '\\\\' + name_by_user + '.csv'), index = True)\n",
    "#Чтобы привести таблицу в читаемый вид, используйте следующий прием: выделить первый столбец-нажать \"Данные\"-\"Текст по столбцам\"\n",
    "#- разделитель \"Запятая\""
   ]
  },
  {
   "cell_type": "code",
   "execution_count": 161,
   "metadata": {},
   "outputs": [],
   "source": [
    "def export_table(type):\n",
    "    type = int(input('1=default,  0=user settings'))\n",
    "    if type == 1:\n",
    "        from datetime import datetime\n",
    "        path_by_default = 'C:\\\\Users\\\\User\\\\Desktop\\\\HSE\\\\IT\\\\Home-work-BONDS'\n",
    "        name_by_default = 'Matrix of payments of ' + str(x['ISSUER']) + ' from ' + str(x['DATE']) + \\\n",
    "                             ' updated ' + str(str(datetime.today())[:-16]) + '.csv'\n",
    "        filename = path_by_default + '\\\\' + name_by_default\n",
    "        buf.to_csv(filename, index = True)\n",
    "        next_instruction = 'Чтобы привести таблицу в читаемый вид, используйте следующий прием: выделить первый столбец-нажать \"Данные\"\\\n",
    "        -\"Текст по столбцам\"- разделитель \"Запятая\"'\n",
    "        return path_by_default, name_by_default, next_instruction\n",
    "    elif type == 0:\n",
    "        name_by_user = input('Insert name: ')\n",
    "        path_by_user = input('Insert path: ')\n",
    "        buf.to_csv((path_by_user + '\\\\' + name_by_user + '.csv'), index = True)\n",
    "        next_instruction = 'Чтобы привести таблицу в читаемый вид, используйте следующий прием: выделить первый столбец-нажать \"Данные\"\\\n",
    "        -\"Текст по столбцам\"- разделитель \"Запятая\"'\n",
    "        return path_by_user, name_by_user, next_instruction\n",
    "    else:\n",
    "        print('Never give up')\n",
    "        \n",
    "        \n",
    "        \n",
    "        \n",
    "        "
   ]
  },
  {
   "cell_type": "code",
   "execution_count": 162,
   "metadata": {},
   "outputs": [
    {
     "name": "stdout",
     "output_type": "stream",
     "text": [
      "1=default,  0=user settings1\n"
     ]
    },
    {
     "data": {
      "text/plain": [
       "('C:\\\\Users\\\\User\\\\Desktop\\\\HSE\\\\IT\\\\Home-work-BONDS',\n",
       " 'Matrix of payments of Татфондбанк АИКБ from 2015-09-21 updated 2019-12-21.csv',\n",
       " 'Чтобы привести таблицу в читаемый вид, используйте следующий прием: выделить первый столбец-нажать \"Данные\"        -\"Текст по столбцам\"- разделитель \"Запятая\"')"
      ]
     },
     "execution_count": 162,
     "metadata": {},
     "output_type": "execute_result"
    }
   ],
   "source": [
    "export_table(type)\n",
    "# type=1"
   ]
  },
  {
   "cell_type": "code",
   "execution_count": 202,
   "metadata": {},
   "outputs": [],
   "source": [
    "def export_picture(type):\n",
    "    type = int(input('1=default,  0=user settings'))   \n",
    "    plt.scatter(ISIN_DURATION['ISIN'].to_list(), ISIN_DURATION['time'].to_list()) \n",
    "    plt.xticks(rotation=90)\n",
    "    plt.xlabel('Bonds')\n",
    "    plt.ylabel('Duration')\n",
    "    plt.xticks(rotation = 90)\n",
    "    plt.title('Durations for bonds of '+ str(emitent) + ' from ' + str(start_date_for_u) + ' + '\n",
    "              + str(yield_nan_num) + ' bonds have no YTM')\n",
    "        \n",
    "    if type == 1:\n",
    "        from datetime import datetime\n",
    "        path_by_default = 'C:\\\\Users\\\\User\\\\Desktop\\\\HSE\\\\IT\\\\Home-work-BONDS'\n",
    "        name_by_default = 'Duration for ' + str(x['ISSUER']) + ' from ' + str(x['DATE']) + \\\n",
    "                                     ' + ' + str(yield_nan_num)+ \" bonds have no YTM\" + '.png'\n",
    "        \n",
    "        filename = path_by_default + '\\\\' + name_by_default\n",
    "        plt.savefig(filename)\n",
    "        return path_by_default, name_by_default\n",
    "    if type == 0:\n",
    "        name_by_user = input('Insert name: ')\n",
    "        path_by_user = input('Insert path: ')\n",
    "        plt.savefig(path_by_user + '\\\\' + name_by_user + '.jpg')\n",
    "        return path_by_user, name_by_user\n",
    "    else:\n",
    "        print('Never give up')\n",
    "        \n",
    "\n",
    "\n",
    "\n",
    "        \n",
    "\n"
   ]
  },
  {
   "cell_type": "code",
   "execution_count": 203,
   "metadata": {
    "scrolled": true
   },
   "outputs": [
    {
     "name": "stdout",
     "output_type": "stream",
     "text": [
      "1=default,  0=user settings1\n"
     ]
    },
    {
     "data": {
      "text/plain": [
       "('C:\\\\Users\\\\User\\\\Desktop\\\\HSE\\\\IT\\\\Home-work-BONDS',\n",
       " 'Duration for Татфондбанк АИКБ from 2015-09-21 + 0 bonds have no YTM.png')"
      ]
     },
     "execution_count": 203,
     "metadata": {},
     "output_type": "execute_result"
    },
    {
     "data": {
      "image/png": "[encoded data removed]",
      "text/plain": [
       "<Figure size 432x288 with 1 Axes>"
      ]
     },
     "metadata": {
      "needs_background": "light"
     },
     "output_type": "display_data"
    }
   ],
   "source": [
    "export_picture(type)\n",
    "#type=1"
   ]
  },
  {
   "cell_type": "code",
   "execution_count": 206,
   "metadata": {},
   "outputs": [],
   "source": [
    "# Если есть проблемы с установкой gtk (она не помогает решить проблему cairo)\n",
    "# скопируйте все содержимое GTK3-Runtime Win64\\bin в Anaconda3\\Library\\bin"
   ]
  },
  {
   "cell_type": "code",
   "execution_count": 205,
   "metadata": {},
   "outputs": [
    {
     "name": "stdout",
     "output_type": "stream",
     "text": [
      "1=default,  0=user settings1\n",
      "1=default,  0=user settings1\n",
      "1=default,  0=user settings1\n"
     ]
    },
    {
     "ename": "OSError",
     "evalue": "[Errno 22] Invalid argument: 'C:\\\\Users\\\\User\\\\Desktop\\\\HSE\\\\IT\\\\Home-work-BONDS\\\\report Татфондбанк АИКБ from 2015-09-21.pdf'",
     "output_type": "error",
     "traceback": [
      "\u001b[1;31m---------------------------------------------------------------------------\u001b[0m",
      "\u001b[1;31mOSError\u001b[0m                                   Traceback (most recent call last)",
      "\u001b[1;32m<ipython-input-205-534039b4dad0>\u001b[0m in \u001b[0;36m<module>\u001b[1;34m\u001b[0m\n\u001b[0;32m     22\u001b[0m \u001b[0mhtml_out\u001b[0m \u001b[1;33m=\u001b[0m \u001b[0mtemplate\u001b[0m\u001b[1;33m.\u001b[0m\u001b[0mrender\u001b[0m\u001b[1;33m(\u001b[0m\u001b[0mtemplate_vars\u001b[0m\u001b[1;33m,\u001b[0m \u001b[0mpresentational_hints\u001b[0m\u001b[1;33m=\u001b[0m\u001b[1;32mTrue\u001b[0m\u001b[1;33m)\u001b[0m\u001b[1;33m\u001b[0m\u001b[1;33m\u001b[0m\u001b[0m\n\u001b[0;32m     23\u001b[0m HTML(string = html_out).write_pdf(export_picture(type)[0] + \"\\\\\" + \"report \" + str(x['ISSUER']) + \" from \" \\\n\u001b[1;32m---> 24\u001b[1;33m                                   + str(x['DATE']) + \".pdf\", presentational_hints = True)\n\u001b[0m",
      "\u001b[1;32mC:\\ProgramData\\Anaconda3\\lib\\site-packages\\weasyprint\\__init__.py\u001b[0m in \u001b[0;36mwrite_pdf\u001b[1;34m(self, target, stylesheets, zoom, attachments, presentational_hints, font_config)\u001b[0m\n\u001b[0;32m    210\u001b[0m             \u001b[0mpresentational_hints\u001b[0m\u001b[1;33m=\u001b[0m\u001b[0mpresentational_hints\u001b[0m\u001b[1;33m,\u001b[0m\u001b[1;33m\u001b[0m\u001b[1;33m\u001b[0m\u001b[0m\n\u001b[0;32m    211\u001b[0m             \u001b[0mfont_config\u001b[0m\u001b[1;33m=\u001b[0m\u001b[0mfont_config\u001b[0m\u001b[1;33m)\u001b[0m\u001b[1;33m.\u001b[0m\u001b[0mwrite_pdf\u001b[0m\u001b[1;33m(\u001b[0m\u001b[1;33m\u001b[0m\u001b[1;33m\u001b[0m\u001b[0m\n\u001b[1;32m--> 212\u001b[1;33m                 target, zoom, attachments)\n\u001b[0m\u001b[0;32m    213\u001b[0m \u001b[1;33m\u001b[0m\u001b[0m\n\u001b[0;32m    214\u001b[0m     def write_image_surface(self, stylesheets=None, resolution=96,\n",
      "\u001b[1;32mC:\\ProgramData\\Anaconda3\\lib\\site-packages\\weasyprint\\document.py\u001b[0m in \u001b[0;36mwrite_pdf\u001b[1;34m(self, target, zoom, attachments)\u001b[0m\n\u001b[0;32m    711\u001b[0m                 \u001b[0mshutil\u001b[0m\u001b[1;33m.\u001b[0m\u001b[0mcopyfileobj\u001b[0m\u001b[1;33m(\u001b[0m\u001b[0mfile_obj\u001b[0m\u001b[1;33m,\u001b[0m \u001b[0mtarget\u001b[0m\u001b[1;33m)\u001b[0m\u001b[1;33m\u001b[0m\u001b[1;33m\u001b[0m\u001b[0m\n\u001b[0;32m    712\u001b[0m             \u001b[1;32melse\u001b[0m\u001b[1;33m:\u001b[0m\u001b[1;33m\u001b[0m\u001b[1;33m\u001b[0m\u001b[0m\n\u001b[1;32m--> 713\u001b[1;33m                 \u001b[1;32mwith\u001b[0m \u001b[0mopen\u001b[0m\u001b[1;33m(\u001b[0m\u001b[0mtarget\u001b[0m\u001b[1;33m,\u001b[0m \u001b[1;34m'wb'\u001b[0m\u001b[1;33m)\u001b[0m \u001b[1;32mas\u001b[0m \u001b[0mfd\u001b[0m\u001b[1;33m:\u001b[0m\u001b[1;33m\u001b[0m\u001b[1;33m\u001b[0m\u001b[0m\n\u001b[0m\u001b[0;32m    714\u001b[0m                     \u001b[0mshutil\u001b[0m\u001b[1;33m.\u001b[0m\u001b[0mcopyfileobj\u001b[0m\u001b[1;33m(\u001b[0m\u001b[0mfile_obj\u001b[0m\u001b[1;33m,\u001b[0m \u001b[0mfd\u001b[0m\u001b[1;33m)\u001b[0m\u001b[1;33m\u001b[0m\u001b[1;33m\u001b[0m\u001b[0m\n\u001b[0;32m    715\u001b[0m \u001b[1;33m\u001b[0m\u001b[0m\n",
      "\u001b[1;31mOSError\u001b[0m: [Errno 22] Invalid argument: 'C:\\\\Users\\\\User\\\\Desktop\\\\HSE\\\\IT\\\\Home-work-BONDS\\\\report Татфондбанк АИКБ from 2015-09-21.pdf'"
     ]
    },
    {
     "data": {
      "image/png": "[encoded data removed]",
      "text/plain": [
       "<Figure size 432x288 with 1 Axes>"
      ]
     },
     "metadata": {
      "needs_background": "light"
     },
     "output_type": "display_data"
    }
   ],
   "source": [
    "\n",
    "from __future__ import print_function\n",
    "from jinja2 import Environment, FileSystemLoader\n",
    "from weasyprint import HTML, Document\n",
    "import os\n",
    "\n",
    "env = Environment(loader = FileSystemLoader('.'))\n",
    "template = env.get_template(\"myreport.html\") \n",
    "template_vars = {\"title\": \"Отчет составлен Потаповым Артёмом Игоревичем\",\n",
    "                \"INTRO\": \"Данный отчет содержит график платежей портфеля из облигаций эмитента\" + str(x['ISSUER']) + \\\n",
    "                 \" на дату \" + str(x['DATE']) \n",
    "                 + \" профиль чувствительностей \", \n",
    "                 \"TABLE_DESC\": \"В таблице представлен график платежей по всем непогашенным облигациям \"+ str(x['ISSUER'])\\\n",
    "                 + \" с даты \" + str(x['DATE']) + \" по дату последней выплаты. В столбцах размер плателей на конкретную дату, \\\n",
    "                 по строкам - размер платежей по 1 бумаге\", \n",
    "                 \"TABLE\": buf.T.to_html(), \n",
    "                 \"IMAGE_DESC\": \"На графике изображены дюрации всех непогашенных бумаг \"+ str(x['ISSUER']) + \" на \"\n",
    "                 + str(x['DATE']), \n",
    "                 \"IMAGE\": os.path.realpath(export_picture(type)[0] + '\\\\' + export_picture(type)[1])\n",
    "                }\n",
    "\n",
    "\n",
    "html_out = template.render(template_vars, presentational_hints=True)\n",
    "HTML(string = html_out).write_pdf(export_picture(type)[0] + \"\\\\\" + \"report \" + str(x['ISSUER']) + \" from \" \\\n",
    "                                  + str(x['DATE']) + \".pdf\", presentational_hints = True)"
   ]
  }
 ],
 "metadata": {
  "kernelspec": {
   "display_name": "Python 3",
   "language": "python",
   "name": "python3"
  },
  "language_info": {
   "codemirror_mode": {
    "name": "ipython",
    "version": 3
   },
   "file_extension": ".py",
   "mimetype": "text/x-python",
   "name": "python",
   "nbconvert_exporter": "python",
   "pygments_lexer": "ipython3",
   "version": "3.7.3"
  }
 },
 "nbformat": 4,
 "nbformat_minor": 2
}
